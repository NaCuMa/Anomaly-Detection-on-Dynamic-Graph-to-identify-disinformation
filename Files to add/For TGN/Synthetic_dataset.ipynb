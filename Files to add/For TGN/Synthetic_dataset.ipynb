{
 "cells": [
  {
   "cell_type": "code",
   "execution_count": 1,
   "id": "3f48392e",
   "metadata": {},
   "outputs": [],
   "source": [
    "import pandas as pd\n",
    "import numpy as np\n",
    "import matplotlib.pyplot as plt\n",
    "from pathlib import Path"
   ]
  },
  {
   "cell_type": "markdown",
   "id": "b4e09866",
   "metadata": {},
   "source": [
    "### Parameters"
   ]
  },
  {
   "cell_type": "code",
   "execution_count": 2,
   "id": "cccbcb0f",
   "metadata": {},
   "outputs": [],
   "source": [
    "nb_utilisateurs = 2000 # number of users\n",
    "T = int(100000) # time range of exchanges\n",
    "anom_percent = 0.01 # proportion of anomalies"
   ]
  },
  {
   "cell_type": "markdown",
   "id": "55eedeca",
   "metadata": {},
   "source": [
    "### Data generation"
   ]
  },
  {
   "cell_type": "code",
   "execution_count": 3,
   "id": "8d9f8470",
   "metadata": {},
   "outputs": [],
   "source": [
    "utilisateurs = np.arange(nb_utilisateurs)\n",
    "activity = np.zeros(nb_utilisateurs, dtype = np.int32)\n",
    "for i in range(nb_utilisateurs):\n",
    "    activity[i] = int(np.random.exponential(10, size = 1))+1\n",
    "nb_interactions = np.sum(activity)\n",
    "\n",
    "# Anomalies d'arêtes\n",
    "nb_edge_anomalies = int(nb_interactions*anom_percent)"
   ]
  },
  {
   "cell_type": "code",
   "execution_count": 4,
   "id": "d4b4c108",
   "metadata": {},
   "outputs": [],
   "source": [
    "data = np.zeros((nb_utilisateurs + nb_interactions + nb_edge_anomalies, 173))\n",
    "\n",
    "# Ajout des attributs de noeuds\n",
    "data[:nb_utilisateurs] = np.hstack((np.full((nb_utilisateurs,1),-1), np.full((nb_utilisateurs,172),1))) #np.random.uniform(-1,1, size = (nb_utilisateurs,172))\n",
    "\n",
    "times = []\n",
    "for i in range(nb_utilisateurs):\n",
    "    times.append(np.random.choice(np.arange(T), size = activity[i]))\n",
    "\n",
    "time2node = np.empty((T,),dtype=object)\n",
    "for node in range(nb_utilisateurs):\n",
    "    for t in times[node]:\n",
    "        if time2node[t] == None:\n",
    "            time2node[t] = [node]\n",
    "        else:\n",
    "            time2node[t].append(node)"
   ]
  },
  {
   "cell_type": "code",
   "execution_count": 5,
   "id": "eb421fe4",
   "metadata": {},
   "outputs": [],
   "source": [
    "ind_data = nb_utilisateurs\n",
    "degrees = np.zeros(nb_utilisateurs)\n",
    "\n",
    "time_edge_anomalies_np = np.random.choice(np.arange(T), size = nb_edge_anomalies)\n",
    "time_edge_anomalies_set = set(time_edge_anomalies_np)\n",
    "time_edge_anomalies_dict = {}\n",
    "for time in time_edge_anomalies_set:\n",
    "    time_edge_anomalies_dict[time] = len(np.where(time_edge_anomalies_np == time)[0])\n",
    "edge_anomalies_indices = []\n",
    "\n",
    "for t in range(T):\n",
    "    if t in time_edge_anomalies_set:\n",
    "        src_edge_anom = np.random.choice(utilisateurs, size = (time_edge_anomalies_dict[t],1))\n",
    "        dest_edge_anom = np.random.choice(utilisateurs[np.where(degrees != degrees[src_edge_anom])[0]], size = (time_edge_anomalies_dict[t],1))\n",
    "        data[ind_data:ind_data + time_edge_anomalies_dict[t]] = np.hstack((np.array(src_edge_anom,ndmin=2),\n",
    "                                np.array(dest_edge_anom, ndmin=2), np.full((time_edge_anomalies_dict[t],1),t),\n",
    "                                np.full((time_edge_anomalies_dict[t],170),0)))\n",
    "        degrees[src_edge_anom] += 1\n",
    "        edge_anomalies_indices.extend(np.arange(ind_data-nb_utilisateurs, ind_data-nb_utilisateurs+time_edge_anomalies_dict[t]).tolist())\n",
    "        ind_data += time_edge_anomalies_dict[t]\n",
    "    if time2node[t] != None:\n",
    "        for node in time2node[t]:\n",
    "            dest = np.random.choice(np.where(degrees==degrees[node])[0], size = 1)\n",
    "            data[ind_data] = np.hstack((np.array(node,ndmin=2),\n",
    "                                        np.array(dest, ndmin=2), np.array(t,ndmin=2),\n",
    "                                        np.full((1,170),0)))\n",
    "            degrees[node] += 1\n",
    "            ind_data += 1"
   ]
  },
  {
   "cell_type": "markdown",
   "id": "f3ddb338",
   "metadata": {},
   "source": [
    "### Data saving"
   ]
  },
  {
   "cell_type": "code",
   "execution_count": 7,
   "id": "de853cf9",
   "metadata": {},
   "outputs": [],
   "source": [
    "pd.DataFrame(data).to_csv(f'./data/Synthetic.csv',index=False)\n",
    "pd.DataFrame(edge_anomalies_indices).to_csv(f'./data/anom_edges/Synthetic_anom_edges.csv',index=False)"
   ]
  },
  {
   "cell_type": "code",
   "execution_count": null,
   "id": "bcd960b6",
   "metadata": {},
   "outputs": [],
   "source": []
  }
 ],
 "metadata": {
  "kernelspec": {
   "display_name": "Python 3 (ipykernel)",
   "language": "python",
   "name": "python3"
  },
  "language_info": {
   "codemirror_mode": {
    "name": "ipython",
    "version": 3
   },
   "file_extension": ".py",
   "mimetype": "text/x-python",
   "name": "python",
   "nbconvert_exporter": "python",
   "pygments_lexer": "ipython3",
   "version": "3.9.7"
  }
 },
 "nbformat": 4,
 "nbformat_minor": 5
}
